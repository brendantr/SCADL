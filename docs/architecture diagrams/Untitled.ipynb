{
 "cells": [
  {
   "cell_type": "code",
   "execution_count": 2,
   "id": "2804f254-8282-4eb0-9052-0c0a8e3edafb",
   "metadata": {},
   "outputs": [],
   "source": [
    "from diagrams import Diagram, Cluster\n",
    "from diagrams.c4 import Person, Container, Database, System, SystemBoundary, Relationship\n",
    "\n",
    "graph_attr = {\n",
    "    \"splines\": \"spline\",\n",
    "}\n",
    "\n",
    "with Diagram(\"ResNet50 AI System Architecture\", direction=\"TB\", graph_attr=graph_attr):\n",
    "    user = Person(\"Data Scientist\", \"Trains and evaluates the model\")\n",
    "\n",
    "    with SystemBoundary(\"ResNet50 AI System\"):\n",
    "        with Cluster(\"Data Processing\"):\n",
    "            data_loader = Container(\"Data Loader\", \"Python\", \"Loads and preprocesses image data\")\n",
    "            augmentation = Container(\"Data Augmentation\", \"Python\", \"Applies transformations to increase dataset diversity\")\n",
    "\n",
    "        with Cluster(\"Model Architecture\"):\n",
    "            resnet50 = Container(\"ResNet50 Model\", \"PyTorch/TensorFlow\", \"Deep residual neural network with 50 layers\")\n",
    "            feature_extractor = Container(\"Feature Extractor\", \"Python\", \"Extracts features from input images\")\n",
    "            classifier = Container(\"Classifier\", \"Python\", \"Performs final classification based on extracted features\")\n",
    "\n",
    "        with Cluster(\"Training\"):\n",
    "            optimizer = Container(\"Optimizer\", \"Python\", \"Adjusts model parameters during training\")\n",
    "            loss_function = Container(\"Loss Function\", \"Python\", \"Calculates model error\")\n",
    "\n",
    "        with Cluster(\"Evaluation\"):\n",
    "            metrics = Container(\"Evaluation Metrics\", \"Python\", \"Calculates accuracy, precision, recall, etc.\")\n",
    "            visualizer = Container(\"Result Visualizer\", \"Python\", \"Generates performance graphs and visualizations\")\n",
    "\n",
    "        database = Database(\"Image Database\", \"Stores training and testing images\")\n",
    "\n",
    "    user >> Relationship(\"Prepares data and configures\") >> data_loader\n",
    "    user >> Relationship(\"Trains and evaluates\") >> resnet50\n",
    "\n",
    "    data_loader >> Relationship(\"Loads data from\") >> database\n",
    "    data_loader >> Relationship(\"Feeds data to\") >> augmentation\n",
    "    augmentation >> Relationship(\"Provides augmented data to\") >> resnet50\n",
    "\n",
    "    resnet50 >> Relationship(\"Extracts features using\") >> feature_extractor\n",
    "    feature_extractor >> Relationship(\"Passes features to\") >> classifier\n",
    "\n",
    "    resnet50 >> Relationship(\"Uses\") >> optimizer\n",
    "    resnet50 >> Relationship(\"Calculates loss with\") >> loss_function\n",
    "\n",
    "    resnet50 >> Relationship(\"Evaluated using\") >> metrics\n",
    "    metrics >> Relationship(\"Visualized by\") >> visualizer\n",
    "\n",
    "    visualizer >> Relationship(\"Presents results to\") >> user\n"
   ]
  },
  {
   "cell_type": "code",
   "execution_count": 1,
   "id": "da76f410-99e3-4930-b8ad-261633c227e3",
   "metadata": {},
   "outputs": [
    {
     "name": "stdout",
     "output_type": "stream",
     "text": [
      "C4 diagram generated as c4_diagram.plantuml\n"
     ]
    }
   ],
   "source": [
    "def generate_c4_diagram():\n",
    "    # Define the PlantUML header\n",
    "    plantuml = \"\"\"@startuml\n",
    "!include <C4/C4.puml>\n",
    "\"\"\"\n",
    "\n",
    "    # Define the system context\n",
    "    plantuml += \"\"\"\n",
    "Person(user, \"User\")\n",
    "System(jupyter, \"Jupyter Notebook\")\n",
    "System(ascad, \"ASCAD Dataset\")\n",
    "\n",
    "Rel(user, jupyter, \"Interacts with\")\n",
    "Rel(jupyter, ascad, \"Loads from\")\n",
    "\"\"\"\n",
    "\n",
    "    # Define the container diagram\n",
    "    plantuml += \"\"\"\n",
    "Container(jupyter) {\n",
    "    Component(loader, \"ASCAD Dataset Loader\")\n",
    "    Component(analysis, \"Data Analysis Scripts\")\n",
    "    Component(visualize, \"Data Visualization Tools\")\n",
    "    \n",
    "    Rel(loader, analysis, \"Provides data to\")\n",
    "    Rel(analysis, visualize, \"Uses for plotting\")\n",
    "}\n",
    "\"\"\"\n",
    "\n",
    "    # Close the PlantUML diagram\n",
    "    plantuml += \"\"\"\n",
    "@enduml\n",
    "\"\"\"\n",
    "\n",
    "    # Save the PlantUML code to a file\n",
    "    with open(\"c4_diagram.plantuml\", \"w\") as file:\n",
    "        file.write(plantuml)\n",
    "\n",
    "    print(\"C4 diagram generated as c4_diagram.plantuml\")\n",
    "\n",
    "if __name__ == \"__main__\":\n",
    "    generate_c4_diagram()\n"
   ]
  },
  {
   "cell_type": "code",
   "execution_count": null,
   "id": "6bbbdd4b-042c-4dca-a0d8-1f9f7287914c",
   "metadata": {},
   "outputs": [],
   "source": []
  }
 ],
 "metadata": {
  "kernelspec": {
   "display_name": "Python (venv)",
   "language": "python",
   "name": "venv"
  },
  "language_info": {
   "codemirror_mode": {
    "name": "ipython",
    "version": 3
   },
   "file_extension": ".py",
   "mimetype": "text/x-python",
   "name": "python",
   "nbconvert_exporter": "python",
   "pygments_lexer": "ipython3",
   "version": "3.13.1"
  }
 },
 "nbformat": 4,
 "nbformat_minor": 5
}
