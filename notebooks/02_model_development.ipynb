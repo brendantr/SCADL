{
 "cells": [
  {
   "cell_type": "code",
   "execution_count": 2,
   "id": "0fb71657-73d2-4142-b42d-a2927f5351ee",
   "metadata": {},
   "outputs": [],
   "source": [
    "# In 02_model_development.ipynb\n",
    "\n",
    "import torch\n",
    "import torch.nn as nn\n",
    "\n",
    "class BaselineMLP(nn.Module):\n",
    "    def __init__(self):\n",
    "        super(BaselineMLP, self).__init__()\n",
    "        self.fc1 = nn.Linear(784, 128)  # Example input and hidden layer sizes\n",
    "        self.fc2 = nn.Linear(128, 10)   # Example output size\n",
    "\n",
    "    def forward(self, x):\n",
    "        x = torch.relu(self.fc1(x))\n",
    "        x = self.fc2(x)\n",
    "        return x\n",
    "\n",
    "model = BaselineMLP()\n"
   ]
  },
  {
   "cell_type": "code",
   "execution_count": 1,
   "id": "c4f9fc8f-46e6-4779-bc9e-2b166eef853e",
   "metadata": {},
   "outputs": [
    {
     "ename": "NameError",
     "evalue": "name 'X_train' is not defined",
     "output_type": "error",
     "traceback": [
      "\u001b[31m---------------------------------------------------------------------------\u001b[39m",
      "\u001b[31mNameError\u001b[39m                                 Traceback (most recent call last)",
      "\u001b[36mCell\u001b[39m\u001b[36m \u001b[39m\u001b[32mIn[1]\u001b[39m\u001b[32m, line 7\u001b[39m\n\u001b[32m      3\u001b[39m \u001b[38;5;28;01mfrom\u001b[39;00m\u001b[38;5;250m \u001b[39m\u001b[34;01mtorch\u001b[39;00m\u001b[34;01m.\u001b[39;00m\u001b[34;01mutils\u001b[39;00m\u001b[34;01m.\u001b[39;00m\u001b[34;01mtensorboard\u001b[39;00m\u001b[38;5;250m \u001b[39m\u001b[38;5;28;01mimport\u001b[39;00m SummaryWriter\n\u001b[32m      5\u001b[39m \u001b[38;5;66;03m# Load and prepare your dataset\u001b[39;00m\n\u001b[32m      6\u001b[39m \u001b[38;5;66;03m# Assuming X_train and y_train are your training data tensors\u001b[39;00m\n\u001b[32m----> \u001b[39m\u001b[32m7\u001b[39m X_train = torch.from_numpy(\u001b[43mX_train\u001b[49m).float()\n\u001b[32m      8\u001b[39m y_train = torch.from_numpy(y_train).long()\n\u001b[32m     10\u001b[39m \u001b[38;5;66;03m# Define data loaders\u001b[39;00m\n",
      "\u001b[31mNameError\u001b[39m: name 'X_train' is not defined"
     ]
    }
   ],
   "source": [
    "# Example training loop\n",
    "import torch\n",
    "from torch.utils.tensorboard import SummaryWriter\n",
    "\n",
    "# Load and prepare your dataset\n",
    "# Assuming X_train and y_train are your training data tensors\n",
    "X_train = torch.from_numpy(X_train).float()\n",
    "y_train = torch.from_numpy(y_train).long()\n",
    "\n",
    "# Define data loaders\n",
    "train_dataset = torch.utils.data.TensorDataset(X_train, y_train)\n",
    "train_loader = torch.utils.data.DataLoader(train_dataset, batch_size=32, shuffle=True)\n",
    "\n",
    "# Compile the model\n",
    "criterion = nn.CrossEntropyLoss()\n",
    "optimizer = torch.optim.Adam(model.parameters(), lr=0.001)\n",
    "\n",
    "# Initialize TensorBoard writer\n",
    "writer = SummaryWriter(log_dir='./experiments/logs')\n",
    "\n",
    "# Train the model\n",
    "for epoch in range(10):\n",
    "    for x, y in train_loader:\n",
    "        optimizer.zero_grad()\n",
    "        outputs = model(x)\n",
    "        loss = criterion(outputs, y)\n",
    "        loss.backward()\n",
    "        optimizer.step()\n",
    "        \n",
    "        # Log training metrics\n",
    "        writer.add_scalar('Training Loss', loss.item(), epoch)\n",
    "\n",
    "# Evaluate the model on validation set\n",
    "# Assuming X_val and y_val are your validation data tensors\n",
    "X_val = torch.from_numpy(X_val).float()\n",
    "y_val = torch.from_numpy(y_val).long()\n",
    "\n",
    "val_dataset = torch.utils.data.TensorDataset(X_val, y_val)\n",
    "val_loader = torch.utils.data.DataLoader(val_dataset, batch_size=32, shuffle=False)\n",
    "\n",
    "model.eval()\n",
    "with torch.no_grad():\n",
    "    val_loss = 0\n",
    "    correct = 0\n",
    "    for x, y in val_loader:\n",
    "        outputs = model(x)\n",
    "        loss = criterion(outputs, y)\n",
    "        val_loss += loss.item()\n",
    "        _, predicted = torch.max(outputs, dim=1)\n",
    "        correct += (predicted == y).sum().item()\n",
    "\n",
    "accuracy = correct / len(val_loader.dataset)\n",
    "print(f\"Validation Accuracy: {accuracy:.2f}\")\n",
    "\n",
    "# Close TensorBoard writer\n",
    "writer.close()\n"
   ]
  },
  {
   "cell_type": "code",
   "execution_count": 4,
   "id": "c8653130-42e2-497a-8e6d-665d708c5bfa",
   "metadata": {},
   "outputs": [
    {
     "ename": "SyntaxError",
     "evalue": "invalid syntax (3865344031.py, line 1)",
     "output_type": "error",
     "traceback": [
      "  \u001b[36mCell\u001b[39m\u001b[36m \u001b[39m\u001b[32mIn[4]\u001b[39m\u001b[32m, line 1\u001b[39m\n\u001b[31m    \u001b[39m\u001b[31mtensorboard --logdir ./logs\u001b[39m\n                          ^\n\u001b[31mSyntaxError\u001b[39m\u001b[31m:\u001b[39m invalid syntax\n"
     ]
    }
   ],
   "source": [
    "tensorboard --logdir ./logs"
   ]
  },
  {
   "cell_type": "code",
   "execution_count": null,
   "id": "95b4a223-3d48-4ca5-8ecd-ebb53aaee98f",
   "metadata": {},
   "outputs": [],
   "source": []
  }
 ],
 "metadata": {
  "kernelspec": {
   "display_name": "Python 3 (ipykernel)",
   "language": "python",
   "name": "python3"
  },
  "language_info": {
   "codemirror_mode": {
    "name": "ipython",
    "version": 3
   },
   "file_extension": ".py",
   "mimetype": "text/x-python",
   "name": "python",
   "nbconvert_exporter": "python",
   "pygments_lexer": "ipython3",
   "version": "3.13.1"
  }
 },
 "nbformat": 4,
 "nbformat_minor": 5
}
